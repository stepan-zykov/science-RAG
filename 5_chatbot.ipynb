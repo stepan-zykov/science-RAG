{
 "cells": [
  {
   "cell_type": "code",
   "execution_count": 18,
   "metadata": {},
   "outputs": [],
   "source": [
    "import os\n",
    "from decouple import config\n",
    "from langchain_community.vectorstores import UpstashVectorStore\n",
    "from langchain_community.embeddings.yandex import YandexGPTEmbeddings\n",
    "from langchain_community.llms import YandexGPT\n",
    "from langchain_core.prompts import ChatPromptTemplate"
   ]
  },
  {
   "cell_type": "code",
   "execution_count": 3,
   "metadata": {},
   "outputs": [],
   "source": [
    "UPSTASH_VECTOR_REST_URL = config(\"UPSTASH_VECTOR_REST_URL\")\n",
    "UPSTASH_VECTOR_REST_TOKEN = config(\"UPSTASH_VECTOR_REST_TOKEN\")\n",
    "STORE_CONFIG = {\n",
    "    \"index_url\": UPSTASH_VECTOR_REST_URL,\n",
    "    \"index_token\": UPSTASH_VECTOR_REST_TOKEN\n",
    "}"
   ]
  },
  {
   "cell_type": "code",
   "execution_count": 4,
   "metadata": {},
   "outputs": [],
   "source": [
    "YC_FOLDER_ID = config('YC_FOLDER_ID')\n",
    "YC_API_KEY = config('YC_API_KEY')\n",
    "YA_EMB_CONFIG = {\n",
    "    \"api_key\": YC_API_KEY,\n",
    "    \"folder_id\": YC_FOLDER_ID,\n",
    "    \"doc_model_name\": \"text-search-query\"\n",
    "}"
   ]
  },
  {
   "cell_type": "code",
   "execution_count": 15,
   "metadata": {},
   "outputs": [],
   "source": [
    "YC_FOLDER_ID = config('YC_FOLDER_ID')\n",
    "YC_API_KEY = config('YC_API_KEY')\n",
    "LLM_CONFIG = {\n",
    "    \"api_key\": YC_API_KEY,\n",
    "    \"folder_id\": YC_FOLDER_ID,\n",
    "    \"model_name\": \"yandexgpt-lite\"\n",
    "}"
   ]
  },
  {
   "cell_type": "code",
   "execution_count": 17,
   "metadata": {},
   "outputs": [],
   "source": [
    "embeddings = YandexGPTEmbeddings(**YA_EMB_CONFIG)\n",
    "store = UpstashVectorStore(embedding=embeddings, **STORE_CONFIG)\n",
    "llm = YandexGPT(**LLM_CONFIG)"
   ]
  },
  {
   "cell_type": "code",
   "execution_count": 7,
   "metadata": {},
   "outputs": [],
   "source": [
    "retriever = store.as_retriever(\n",
    "    search_type='similarity',\n",
    "    search_kwargs={'k': 2}\n",
    ")"
   ]
  },
  {
   "cell_type": "code",
   "execution_count": 11,
   "metadata": {},
   "outputs": [],
   "source": [
    "result = retriever.invoke(\"Бургер?\")"
   ]
  },
  {
   "cell_type": "code",
   "execution_count": 19,
   "metadata": {},
   "outputs": [],
   "source": [
    "message = \"\"\"\n",
    "Ответь на вопрос, используя только предоставленный контекст.\n",
    "\n",
    "Вопрос: {question}\n",
    "\n",
    "Контекст: {context}\n",
    "\"\"\""
   ]
  },
  {
   "cell_type": "code",
   "execution_count": 20,
   "metadata": {},
   "outputs": [],
   "source": [
    "prompt = ChatPromptTemplate.from_messages([('human', message)])"
   ]
  },
  {
   "cell_type": "code",
   "execution_count": 21,
   "metadata": {},
   "outputs": [],
   "source": [
    "from langchain_core.runnables import RunnableParallel, RunnablePassthrough"
   ]
  },
  {
   "cell_type": "code",
   "execution_count": 22,
   "metadata": {},
   "outputs": [],
   "source": [
    "runnable = RunnableParallel(\n",
    "    passed=RunnablePassthrough(),\n",
    "    modified=lambda x: x[\"num\"] * 123121\n",
    ")"
   ]
  },
  {
   "cell_type": "code",
   "execution_count": 23,
   "metadata": {},
   "outputs": [
    {
     "data": {
      "text/plain": [
       "{'passed': {'num': 31}, 'modified': 3816751}"
      ]
     },
     "execution_count": 23,
     "metadata": {},
     "output_type": "execute_result"
    }
   ],
   "source": [
    "runnable.invoke({'num': 31})"
   ]
  },
  {
   "cell_type": "code",
   "execution_count": 24,
   "metadata": {},
   "outputs": [],
   "source": [
    "from langchain_core.output_parsers import StrOutputParser\n",
    "parser = StrOutputParser()"
   ]
  },
  {
   "cell_type": "code",
   "execution_count": 26,
   "metadata": {},
   "outputs": [],
   "source": [
    "chain = {'context': retriever, \"question\": RunnablePassthrough()} | prompt | llm | parser"
   ]
  },
  {
   "cell_type": "code",
   "execution_count": 42,
   "metadata": {},
   "outputs": [
    {
     "data": {
      "text/plain": [
       "'В источнике нет информации о населении Санкт-Петербурга.\\n\\nЕсли у вас есть другой вопрос, я постараюсь на него ответить.'"
      ]
     },
     "execution_count": 42,
     "metadata": {},
     "output_type": "execute_result"
    }
   ],
   "source": [
    "chain.invoke('Какое население в Питере?')"
   ]
  },
  {
   "cell_type": "code",
   "execution_count": 41,
   "metadata": {},
   "outputs": [
    {
     "data": {
      "text/plain": [
       "'По данным Росстата, население Санкт-Петербурга на 1 января 2023 года составляло около 5 468 382 человек.'"
      ]
     },
     "execution_count": 41,
     "metadata": {},
     "output_type": "execute_result"
    }
   ],
   "source": [
    "llm.invoke('Какое население в Питере?')"
   ]
  },
  {
   "cell_type": "code",
   "execution_count": null,
   "metadata": {},
   "outputs": [],
   "source": []
  }
 ],
 "metadata": {
  "kernelspec": {
   "display_name": "venv",
   "language": "python",
   "name": "python3"
  },
  "language_info": {
   "codemirror_mode": {
    "name": "ipython",
    "version": 3
   },
   "file_extension": ".py",
   "mimetype": "text/x-python",
   "name": "python",
   "nbconvert_exporter": "python",
   "pygments_lexer": "ipython3",
   "version": "3.12.0"
  }
 },
 "nbformat": 4,
 "nbformat_minor": 2
}
