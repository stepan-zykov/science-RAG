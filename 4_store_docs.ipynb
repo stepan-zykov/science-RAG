{
 "cells": [
  {
   "cell_type": "code",
   "execution_count": 1,
   "metadata": {},
   "outputs": [],
   "source": [
    "from typing import List\n",
    "from decouple import config\n",
    "from langchain_nomic.embeddings import NomicEmbeddings\n",
    "from langchain_community.vectorstores import UpstashVectorStore\n",
    "from langchain_community.document_loaders import TextLoader\n",
    "from langchain_text_splitters import TokenTextSplitter\n",
    "from langchain_core.documents import Document\n",
    "from upstash_vector import Index, Vector\n",
    "from langchain_community.embeddings.yandex import YandexGPTEmbeddings\n",
    "import wikipedia"
   ]
  },
  {
   "cell_type": "code",
   "execution_count": 2,
   "metadata": {},
   "outputs": [],
   "source": [
    "wikipedia.set_lang(\"ru\")"
   ]
  },
  {
   "cell_type": "code",
   "execution_count": 3,
   "metadata": {},
   "outputs": [],
   "source": [
    "NOMIC_API_KEY = config('NOMIC_API_KEY')\n",
    "EMBED_CONDIG = {\n",
    "    \"nomic_api_key\": NOMIC_API_KEY, \n",
    "    \"model\": 'nomic-embed-text-v1.5',\n",
    "    'dimensionality': 768\n",
    "}"
   ]
  },
  {
   "cell_type": "code",
   "execution_count": 3,
   "metadata": {},
   "outputs": [],
   "source": [
    "UPSTASH_VECTOR_REST_URL = config(\"UPSTASH_VECTOR_REST_URL\")\n",
    "UPSTASH_VECTOR_REST_TOKEN = config(\"UPSTASH_VECTOR_REST_TOKEN\")\n",
    "STORE_CONFIG = {\n",
    "    \"index_url\": UPSTASH_VECTOR_REST_URL,\n",
    "    \"index_token\": UPSTASH_VECTOR_REST_TOKEN\n",
    "}"
   ]
  },
  {
   "cell_type": "code",
   "execution_count": 4,
   "metadata": {},
   "outputs": [],
   "source": [
    "YC_FOLDER_ID = config('YC_FOLDER_ID')\n",
    "YC_API_KEY = config('YC_API_KEY')\n",
    "YA_EMB_CONFIG = {\n",
    "    \"api_key\": YC_API_KEY,\n",
    "    \"folder_id\": YC_FOLDER_ID,\n",
    "    \"doc_model_name\": \"text-search-query\"\n",
    "}"
   ]
  },
  {
   "cell_type": "code",
   "execution_count": 5,
   "metadata": {},
   "outputs": [],
   "source": [
    "embeddings = YandexGPTEmbeddings()"
   ]
  },
  {
   "cell_type": "code",
   "execution_count": 5,
   "metadata": {},
   "outputs": [],
   "source": [
    "embed_model = NomicEmbeddings(**EMBED_CONDIG)"
   ]
  },
  {
   "cell_type": "code",
   "execution_count": 6,
   "metadata": {},
   "outputs": [],
   "source": [
    "store = UpstashVectorStore(embedding=embeddings, **STORE_CONFIG)"
   ]
  },
  {
   "cell_type": "code",
   "execution_count": 25,
   "metadata": {},
   "outputs": [
    {
     "data": {
      "text/plain": [
       "['Нью-Йорк',\n",
       " 'Нью-Йорк (штат)',\n",
       " 'Манхэттен',\n",
       " 'Нью-Йорк (Украина)',\n",
       " 'Нью-Йорк Янкис',\n",
       " 'Нью-Йорк Рейнджерс',\n",
       " 'Банды Нью-Йорка',\n",
       " 'Нью-Йорк, я люблю тебя',\n",
       " 'Нью-Йорк Айлендерс',\n",
       " 'Нью-Йорк Никс']"
      ]
     },
     "execution_count": 25,
     "metadata": {},
     "output_type": "execute_result"
    }
   ],
   "source": [
    "wikipedia.search('Нью ЙОрк')"
   ]
  },
  {
   "cell_type": "code",
   "execution_count": 7,
   "metadata": {},
   "outputs": [],
   "source": [
    "documents = []\n",
    "cities = [\"Чита\", \"Нью-Йорк\"]\n",
    "for city in cities:\n",
    "    wikipedia_page_result = wikipedia.page(title=city)\n",
    "    doc = Document(\n",
    "        page_content=wikipedia_page_result.content,\n",
    "        metadata={\n",
    "            \"source\": f\"{wikipedia_page_result.url}\",\n",
    "            \"title\": city\n",
    "        })\n",
    "    documents.append(doc)"
   ]
  },
  {
   "cell_type": "code",
   "execution_count": 8,
   "metadata": {},
   "outputs": [],
   "source": [
    "OPENAI_LLM_MODEL = \"gpt-4o\"\n",
    "text_splitter = TokenTextSplitter.from_tiktoken_encoder(\n",
    "    model_name=OPENAI_LLM_MODEL, chunk_size=400, chunk_overlap=100\n",
    ")"
   ]
  },
  {
   "cell_type": "code",
   "execution_count": 9,
   "metadata": {},
   "outputs": [],
   "source": [
    "docs = text_splitter.split_documents(documents)"
   ]
  },
  {
   "cell_type": "code",
   "execution_count": 13,
   "metadata": {},
   "outputs": [],
   "source": [
    "import time"
   ]
  },
  {
   "cell_type": "code",
   "execution_count": 14,
   "metadata": {},
   "outputs": [],
   "source": [
    "def request_with_delay(func, *args, **kwargs):\n",
    "    time.sleep(0.1)\n",
    "    return func(*args, **kwargs)"
   ]
  },
  {
   "cell_type": "code",
   "execution_count": 17,
   "metadata": {},
   "outputs": [
    {
     "name": "stderr",
     "output_type": "stream",
     "text": [
      "Retrying langchain_community.embeddings.yandex._embed_with_retry.<locals>._completion_with_retry in 1.0 seconds as it raised _InactiveRpcError: <_InactiveRpcError of RPC that terminated with:\n",
      "\tstatus = StatusCode.RESOURCE_EXHAUSTED\n",
      "\tdetails = \"ai.embeddingsTextEmbeddingRequestsPerSecond.rate rate quota limit exceed: allowed 10 requests\"\n",
      "\tdebug_error_string = \"UNKNOWN:Error received from peer ipv4:158.160.54.160:443 {created_time:\"2024-12-05T18:05:38.5022347+00:00\", grpc_status:8, grpc_message:\"ai.embeddingsTextEmbeddingRequestsPerSecond.rate rate quota limit exceed: allowed 10 requests\"}\"\n",
      ">.\n"
     ]
    }
   ],
   "source": [
    "inserted_vectors = []\n",
    "for i in range(0, len(docs), 10):\n",
    "    docs_batch = docs[i:i+10]\n",
    "    inserted_batch = store.add_documents(docs_batch)\n",
    "    inserted_vectors.append(inserted_vectors)"
   ]
  },
  {
   "cell_type": "code",
   "execution_count": 24,
   "metadata": {},
   "outputs": [],
   "source": [
    "result = store.similarity_search(\"Небоскребы\", k=5)"
   ]
  },
  {
   "cell_type": "code",
   "execution_count": 30,
   "metadata": {},
   "outputs": [
    {
     "name": "stdout",
     "output_type": "stream",
     "text": [
      "Чита - 0.6985642\n",
      "Чита - 0.6720789\n",
      "Чита - 0.65302455\n",
      "Чита - 0.64623934\n",
      "Чита - 0.6457484\n"
     ]
    }
   ],
   "source": [
    "result = store.similarity_search_with_score(\"Буряты\", k=5)\n",
    "for doc, score in result:\n",
    "    print(f\"{doc.metadata['title']} - {score}\")"
   ]
  },
  {
   "cell_type": "code",
   "execution_count": null,
   "metadata": {},
   "outputs": [],
   "source": []
  }
 ],
 "metadata": {
  "kernelspec": {
   "display_name": "venv",
   "language": "python",
   "name": "python3"
  },
  "language_info": {
   "codemirror_mode": {
    "name": "ipython",
    "version": 3
   },
   "file_extension": ".py",
   "mimetype": "text/x-python",
   "name": "python",
   "nbconvert_exporter": "python",
   "pygments_lexer": "ipython3",
   "version": "3.12.0"
  }
 },
 "nbformat": 4,
 "nbformat_minor": 2
}
