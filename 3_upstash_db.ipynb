{
 "cells": [
  {
   "cell_type": "code",
   "execution_count": 20,
   "metadata": {},
   "outputs": [],
   "source": [
    "from typing import List\n",
    "from decouple import config\n",
    "from langchain_nomic.embeddings import NomicEmbeddings\n",
    "from upstash_vector import Index, Vector"
   ]
  },
  {
   "cell_type": "code",
   "execution_count": 4,
   "metadata": {},
   "outputs": [],
   "source": [
    "NOMIC_API_KEY = config('NOMIC_API_KEY')\n",
    "EMBED_CONDIG = {\n",
    "    \"nomic_api_key\": NOMIC_API_KEY, \n",
    "    \"model\": 'nomic-embed-text-v1.5',\n",
    "    'dimensionality': 768\n",
    "}"
   ]
  },
  {
   "cell_type": "code",
   "execution_count": 18,
   "metadata": {},
   "outputs": [],
   "source": [
    "UPSTASH_VECTOR_REST_URL = config(\"UPSTASH_VECTOR_REST_URL\")\n",
    "UPSTASH_VECTOR_REST_TOKEN = config(\"UPSTASH_VECTOR_REST_TOKEN\")\n",
    "INDEX_CONFIG = {\n",
    "    \"url\": UPSTASH_VECTOR_REST_URL,\n",
    "    \"token\": UPSTASH_VECTOR_REST_TOKEN\n",
    "}"
   ]
  },
  {
   "cell_type": "code",
   "execution_count": 6,
   "metadata": {},
   "outputs": [],
   "source": [
    "embed_model = NomicEmbeddings(**EMBED_CONDIG)"
   ]
  },
  {
   "cell_type": "code",
   "execution_count": 9,
   "metadata": {},
   "outputs": [],
   "source": [
    "def get_embeddings(text: str) -> List[float]:\n",
    "    text = text.replace('\\n', ' ')\n",
    "    return embed_model.embed_query(text)"
   ]
  },
  {
   "cell_type": "code",
   "execution_count": 10,
   "metadata": {},
   "outputs": [],
   "source": [
    "documents = [\n",
    "    \"Кот прыгнул через собаку\",\n",
    "    \"Собака прыгнула через кота\",\n",
    "    \"Кто ты, путник?\"\n",
    "]"
   ]
  },
  {
   "cell_type": "code",
   "execution_count": 11,
   "metadata": {},
   "outputs": [],
   "source": [
    "embeddings = [get_embeddings(x) for x in documents]"
   ]
  },
  {
   "cell_type": "code",
   "execution_count": 14,
   "metadata": {},
   "outputs": [],
   "source": [
    "dataset = {}\n",
    "for i, embedding in enumerate(embeddings):\n",
    "    dataset[i] = embedding"
   ]
  },
  {
   "cell_type": "code",
   "execution_count": 19,
   "metadata": {},
   "outputs": [],
   "source": [
    "index = Index(**INDEX_CONFIG)"
   ]
  },
  {
   "cell_type": "code",
   "execution_count": null,
   "metadata": {},
   "outputs": [
    {
     "name": "stdout",
     "output_type": "stream",
     "text": [
      "0\n",
      "1\n",
      "2\n"
     ]
    }
   ],
   "source": [
    "vectors = []\n",
    "for id, emb in dataset.items():\n",
    "    print(id)\n",
    "    vectors.append(Vector(id=id, vector=emb))"
   ]
  },
  {
   "cell_type": "code",
   "execution_count": 23,
   "metadata": {},
   "outputs": [
    {
     "data": {
      "text/plain": [
       "'Success'"
      ]
     },
     "execution_count": 23,
     "metadata": {},
     "output_type": "execute_result"
    }
   ],
   "source": [
    "index.upsert(vectors=vectors)"
   ]
  },
  {
   "cell_type": "code",
   "execution_count": 24,
   "metadata": {},
   "outputs": [],
   "source": [
    "query_str = \"Сколько зайцев было у Мазая?\"\n",
    "query_embedding = get_embeddings(query_str)"
   ]
  },
  {
   "cell_type": "code",
   "execution_count": 25,
   "metadata": {},
   "outputs": [
    {
     "data": {
      "text/plain": [
       "[QueryResult(id='0', score=0.8783984, vector=None, metadata=None, data=None),\n",
       " QueryResult(id='1', score=0.8731688, vector=None, metadata=None, data=None),\n",
       " QueryResult(id='2', score=0.82562757, vector=None, metadata=None, data=None)]"
      ]
     },
     "execution_count": 25,
     "metadata": {},
     "output_type": "execute_result"
    }
   ],
   "source": [
    "index.query(vector=query_embedding,\n",
    "            top_k=3)"
   ]
  }
 ],
 "metadata": {
  "kernelspec": {
   "display_name": "venv",
   "language": "python",
   "name": "python3"
  },
  "language_info": {
   "codemirror_mode": {
    "name": "ipython",
    "version": 3
   },
   "file_extension": ".py",
   "mimetype": "text/x-python",
   "name": "python",
   "nbconvert_exporter": "python",
   "pygments_lexer": "ipython3",
   "version": "3.12.0"
  }
 },
 "nbformat": 4,
 "nbformat_minor": 2
}
